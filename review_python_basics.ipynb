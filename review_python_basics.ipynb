{
  "nbformat": 4,
  "nbformat_minor": 0,
  "metadata": {
    "colab": {
      "provenance": [],
      "authorship_tag": "ABX9TyP3+cnitxDL2gF45hupPzyP"
    },
    "kernelspec": {
      "name": "python3",
      "display_name": "Python 3"
    },
    "language_info": {
      "name": "python"
    }
  },
  "cells": [
    {
      "cell_type": "markdown",
      "source": [
        "Set de exercícios para revisar a parte introdutória de python.\n",
        "\n",
        "larissa.guder@setrem.com.br"
      ],
      "metadata": {
        "id": "tJ1d-tnlM_qg"
      }
    },
    {
      "cell_type": "code",
      "source": [
        "#!/usr/bin/python3\n",
        "# Copyright 2010 Google Inc.\n",
        "# Licensed under the Apache License, Version 2.0\n",
        "# http://www.apache.org/licenses/LICENSE-2.0"
      ],
      "metadata": {
        "id": "aRbWxLrsOdHb"
      },
      "execution_count": null,
      "outputs": []
    },
    {
      "cell_type": "code",
      "source": [
        "# Função de teste para validar as funções criadas.\n",
        "# Serão testadas cada saída x aquilo que é esperado para cada cenário.\n",
        "\n",
        "def test(got, expected):\n",
        "  if got == expected:\n",
        "    prefix = ' OK '\n",
        "  else:\n",
        "    prefix = '  X '\n",
        "  print('%s recebido: %s esperado: %s' % (prefix, repr(got), repr(expected)))"
      ],
      "metadata": {
        "id": "1SKwO0znOlQ6"
      },
      "execution_count": null,
      "outputs": []
    },
    {
      "cell_type": "code",
      "source": [
        "# A. match_ends\n",
        "# Dada uma lista de strings, retorne a contagem do número de\n",
        "# strings onde o comprimento da string é 2 ou mais e o primeiro\n",
        "# e os últimos caracteres da string são iguais.\n",
        "# A função recebe como parametro uma lista com strings, e retorna uma int\n",
        "def match_ends(words):\n",
        "  # +++your code here+++\n",
        "  return"
      ],
      "metadata": {
        "id": "DSVzklinPPkM"
      },
      "execution_count": null,
      "outputs": []
    },
    {
      "cell_type": "code",
      "source": [
        "# Execução dos testes da função\n",
        "print('match_ends')\n",
        "test(match_ends(['aba', 'xyz', 'aa', 'x', 'bbb']), 3)\n",
        "test(match_ends(['', 'x', 'xy', 'xyx', 'xx']), 2)\n",
        "test(match_ends(['aaa', 'be', 'abc', 'hello']), 1)"
      ],
      "metadata": {
        "id": "-HGhtcs2P1i_"
      },
      "execution_count": null,
      "outputs": []
    },
    {
      "cell_type": "code",
      "source": [
        "# B. front_x\n",
        "# Dada uma lista de strings, retorne uma lista com as\n",
        "# strings ordenadas em ordem alfabética, porém\n",
        "# se houverem strings que comecem com x, retorne primeiro\n",
        "# todas as strings com x na lista.\n",
        "# exemplo\n",
        "# ['mix', 'xyz', 'apple', 'xanadu', 'aardvark']\n",
        "# ['xanadu', 'xyz', 'aardvark', 'apple', 'mix']\n",
        "# Dica: pode ser feito utilizando duas listas para ordenar, e depois concatenar elas\n",
        "def front_x(words):\n",
        "  # +++your code here+++\n",
        "  return\n"
      ],
      "metadata": {
        "id": "USyPPpQ4OJoj"
      },
      "execution_count": null,
      "outputs": []
    },
    {
      "cell_type": "code",
      "source": [
        "print('front_x')\n",
        "test(front_x(['bbb', 'ccc', 'axx', 'xzz', 'xaa']),\n",
        "      ['xaa', 'xzz', 'axx', 'bbb', 'ccc'])\n",
        "test(front_x(['ccc', 'bbb', 'aaa', 'xcc', 'xaa']),\n",
        "      ['xaa', 'xcc', 'aaa', 'bbb', 'ccc'])\n",
        "test(front_x(['mix', 'xyz', 'apple', 'xanadu', 'aardvark']),\n",
        "      ['xanadu', 'xyz', 'aardvark', 'apple', 'mix'])"
      ],
      "metadata": {
        "id": "SQmbNzMQSHn2"
      },
      "execution_count": null,
      "outputs": []
    },
    {
      "cell_type": "code",
      "source": [
        "# C. sort_last\n",
        "# Dada uma lista de tuplas não vazias, retorna uma lista ordenada em ordem crescente\n",
        "# ordena pelo último elemento de cada tupla.\n",
        "# exemplo [(1, 7), (1, 3), (3, 4, 5), (2, 2)]\n",
        "# [(2, 2), (1, 3), (3, 4, 5), (1, 7)]\n",
        "# Dica: use uma função key= personalizada para extrair o último elemento de cada tupla.\n",
        "def sort_last(tuples):\n",
        "  # +++your code here+++\n",
        "  return"
      ],
      "metadata": {
        "id": "yTMKyyz-OfFa"
      },
      "execution_count": null,
      "outputs": []
    },
    {
      "cell_type": "code",
      "source": [
        "print()\n",
        "print('sort_last')\n",
        "test(sort_last([(1, 3), (3, 2), (2, 1)]),\n",
        "      [(2, 1), (3, 2), (1, 3)])\n",
        "test(sort_last([(2, 3), (1, 2), (3, 1)]),\n",
        "      [(3, 1), (1, 2), (2, 3)])\n",
        "test(sort_last([(1, 7), (1, 3), (3, 4, 5), (2, 2)]),\n",
        "      [(2, 2), (1, 3), (3, 4, 5), (1, 7)])"
      ],
      "metadata": {
        "id": "rQs1-lMCSLo-"
      },
      "execution_count": null,
      "outputs": []
    },
    {
      "cell_type": "code",
      "source": [
        "# A. donuts\n",
        "# Dada uma contagem interna de vários donuts, retorne uma string\n",
        "# do formato 'Número de donuts: <count>', onde <count> é o número\n",
        "# passado. No entanto, se a contagem for 10 ou mais, use a palavra 'muitos'\n",
        "# em vez da contagem real.\n",
        "# Então donuts(5) retorna 'Número de donuts: 5'\n",
        "# e donuts(23) retorna 'Número de donuts: muitos'\n",
        "\n",
        "def donuts(count):\n",
        "  # +++your code here+++\n",
        "  return"
      ],
      "metadata": {
        "id": "fvcM_9QIXD1I"
      },
      "execution_count": null,
      "outputs": []
    },
    {
      "cell_type": "code",
      "source": [
        "print('donuts')\n",
        "test(donuts(4), 'Número de donuts: 4')\n",
        "test(donuts(9), 'Número de donuts: 9')\n",
        "test(donuts(10), 'Número de donuts: muitos')\n",
        "test(donuts(99), 'Número de donuts: muitos')"
      ],
      "metadata": {
        "id": "J43m8gwdYM7W"
      },
      "execution_count": null,
      "outputs": []
    },
    {
      "cell_type": "code",
      "source": [
        "# B. both_ends\n",
        "# Dada uma string s, retorna uma string composta pelos 2 primeiros\n",
        "# e os 2 últimos caracteres da string original,\n",
        "# então 'spring' produz 'spng'. No entanto, se o comprimento da string\n",
        "# for menor que 2, retorne a string vazia.\n",
        "def both_ends(s):\n",
        "  # +++your code here+++\n",
        "  return"
      ],
      "metadata": {
        "id": "cl-4_nnaYWkW"
      },
      "execution_count": null,
      "outputs": []
    },
    {
      "cell_type": "code",
      "source": [
        "print('both_ends')\n",
        "test(both_ends('spring'), 'spng')\n",
        "test(both_ends('Hello'), 'Helo')\n",
        "test(both_ends('a'), '')\n",
        "test(both_ends('xyz'), 'xyyz')"
      ],
      "metadata": {
        "id": "3QHIKC3YZow5"
      },
      "execution_count": null,
      "outputs": []
    },
    {
      "cell_type": "code",
      "source": [
        "# C. MixUp\n",
        "# Dadas as strings a e b, retorne uma única string com a e b separadas\n",
        "# por um espaço '<a> <b>', exceto trocar os 2 primeiros caracteres de cada string.\n",
        "# por exemplo.\n",
        "#   'mix', pod' -> 'pox mid'\n",
        "#   'dog', 'dinner' -> 'dig donner'\n",
        "# Assume que a e b possuem tamanho igual a 2 ou mais.\n",
        "def mix_up(a, b):\n",
        "  # +++your code here+++\n",
        "  return"
      ],
      "metadata": {
        "id": "QUN5q_2LaI4I"
      },
      "execution_count": null,
      "outputs": []
    },
    {
      "cell_type": "code",
      "source": [
        "print('mix_up')\n",
        "test(mix_up('mix', 'pod'), 'pox mid')\n",
        "test(mix_up('dog', 'dinner'), 'dig donner')\n",
        "test(mix_up('gnash', 'sport'), 'spash gnort')\n",
        "test(mix_up('pezzy', 'firm'), 'fizzy perm')"
      ],
      "metadata": {
        "id": "UwY49etNbBan"
      },
      "execution_count": null,
      "outputs": []
    }
  ]
}